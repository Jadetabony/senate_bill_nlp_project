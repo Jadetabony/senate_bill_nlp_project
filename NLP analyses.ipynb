{
 "cells": [
  {
   "cell_type": "code",
   "execution_count": 2,
   "metadata": {
    "collapsed": true
   },
   "outputs": [],
   "source": [
    "#import libraries\n",
    "import pandas as pd\n",
    "import numpy as np\n",
    "import scipy as sp\n",
    "from sklearn.cross_validation import train_test_split\n",
    "from sklearn.feature_extraction.text import CountVectorizer, TfidfVectorizer\n",
    "from sklearn.naive_bayes import MultinomialNB\n",
    "from sklearn.linear_model import LogisticRegression\n",
    "from sklearn import metrics\n",
    "from textblob import TextBlob, Word\n",
    "from nltk.stem.snowball import SnowballStemmer\n",
    "%matplotlib inline"
   ]
  },
  {
   "cell_type": "code",
   "execution_count": 3,
   "metadata": {
    "collapsed": false
   },
   "outputs": [
    {
     "name": "stderr",
     "output_type": "stream",
     "text": [
      "/Users/Jade/anaconda/lib/python2.7/site-packages/IPython/core/interactiveshell.py:2902: DtypeWarning: Columns (11,13,30,52) have mixed types. Specify dtype option on import or set low_memory=False.\n",
      "  interactivity=interactivity, compiler=compiler, result=result)\n"
     ]
    }
   ],
   "source": [
    "#access data\n",
    "\n",
    "data= pd.read_csv('bills.csv')\n",
    "text = pd.read_csv('billtext.csv', sep='\\t')"
   ]
  },
  {
   "cell_type": "markdown",
   "metadata": {},
   "source": [
    "# Data cleaning\n",
    "\n",
    "Before performing the NLP analyses, datasets need to undergo the following cleaning:\n",
    "- Datasets need to be merged\n",
    "- Columns not used in analyses removed\n",
    "- Columns for analyses created"
   ]
  },
  {
   "cell_type": "code",
   "execution_count": 4,
   "metadata": {
    "collapsed": true
   },
   "outputs": [],
   "source": [
    "#Concatenate the two datasets.  \n",
    "bills = pd.concat([data, text['bill_text_clean']], axis=1)"
   ]
  },
  {
   "cell_type": "code",
   "execution_count": 5,
   "metadata": {
    "collapsed": false
   },
   "outputs": [
    {
     "data": {
      "text/plain": [
       "(28160, 60)"
      ]
     },
     "execution_count": 5,
     "metadata": {},
     "output_type": "execute_result"
    }
   ],
   "source": [
    "#Observing characteristics of the dataframe\n",
    "bills.shape"
   ]
  },
  {
   "cell_type": "code",
   "execution_count": 6,
   "metadata": {
    "collapsed": false
   },
   "outputs": [
    {
     "data": {
      "text/html": [
       "<div>\n",
       "<table border=\"1\" class=\"dataframe\">\n",
       "  <thead>\n",
       "    <tr style=\"text-align: right;\">\n",
       "      <th></th>\n",
       "      <th>id</th>\n",
       "      <th>BillID</th>\n",
       "      <th>BillNum</th>\n",
       "      <th>BillType</th>\n",
       "      <th>ByReq</th>\n",
       "      <th>Chamber</th>\n",
       "      <th>Commem</th>\n",
       "      <th>Cong</th>\n",
       "      <th>Cosponsr</th>\n",
       "      <th>IntrDate</th>\n",
       "      <th>...</th>\n",
       "      <th>NameLast</th>\n",
       "      <th>Party</th>\n",
       "      <th>PooleID</th>\n",
       "      <th>Postal</th>\n",
       "      <th>State</th>\n",
       "      <th>ChRef</th>\n",
       "      <th>RankRef</th>\n",
       "      <th>SubChRef</th>\n",
       "      <th>SubRankRef</th>\n",
       "      <th>bill_text_clean</th>\n",
       "    </tr>\n",
       "  </thead>\n",
       "  <tbody>\n",
       "    <tr>\n",
       "      <th>0</th>\n",
       "      <td>310987</td>\n",
       "      <td>106-S-1</td>\n",
       "      <td>1</td>\n",
       "      <td>S</td>\n",
       "      <td>0.0</td>\n",
       "      <td>1</td>\n",
       "      <td>0</td>\n",
       "      <td>106</td>\n",
       "      <td>10.0</td>\n",
       "      <td>12/15/00</td>\n",
       "      <td>...</td>\n",
       "      <td>McConnell</td>\n",
       "      <td>200.0</td>\n",
       "      <td>14921</td>\n",
       "      <td>KY</td>\n",
       "      <td>51</td>\n",
       "      <td>0.0</td>\n",
       "      <td>0.0</td>\n",
       "      <td>0.0</td>\n",
       "      <td>0.0</td>\n",
       "      <td>[Congressional Bills 106th Congress]\\r\\n[From ...</td>\n",
       "    </tr>\n",
       "    <tr>\n",
       "      <th>1</th>\n",
       "      <td>310058</td>\n",
       "      <td>106-S-2</td>\n",
       "      <td>2</td>\n",
       "      <td>S</td>\n",
       "      <td>0.0</td>\n",
       "      <td>1</td>\n",
       "      <td>0</td>\n",
       "      <td>106</td>\n",
       "      <td>6.0</td>\n",
       "      <td>1/19/99</td>\n",
       "      <td>...</td>\n",
       "      <td>Jeffords</td>\n",
       "      <td>328.0</td>\n",
       "      <td>14240</td>\n",
       "      <td>VT</td>\n",
       "      <td>6</td>\n",
       "      <td>0.0</td>\n",
       "      <td>0.0</td>\n",
       "      <td>0.0</td>\n",
       "      <td>0.0</td>\n",
       "      <td>[Congressional Bills 106th Congress]\\r\\n[From ...</td>\n",
       "    </tr>\n",
       "    <tr>\n",
       "      <th>2</th>\n",
       "      <td>311917</td>\n",
       "      <td>106-S-3</td>\n",
       "      <td>3</td>\n",
       "      <td>S</td>\n",
       "      <td>0.0</td>\n",
       "      <td>1</td>\n",
       "      <td>0</td>\n",
       "      <td>106</td>\n",
       "      <td>17.0</td>\n",
       "      <td>1/19/99</td>\n",
       "      <td>...</td>\n",
       "      <td>Grams</td>\n",
       "      <td>0.0</td>\n",
       "      <td>29367</td>\n",
       "      <td>MN</td>\n",
       "      <td>33</td>\n",
       "      <td>0.0</td>\n",
       "      <td>0.0</td>\n",
       "      <td>0.0</td>\n",
       "      <td>0.0</td>\n",
       "      <td>[Congressional Bills 106th Congress]\\r\\n[From ...</td>\n",
       "    </tr>\n",
       "    <tr>\n",
       "      <th>3</th>\n",
       "      <td>310526</td>\n",
       "      <td>106-S-4</td>\n",
       "      <td>4</td>\n",
       "      <td>S</td>\n",
       "      <td>0.0</td>\n",
       "      <td>1</td>\n",
       "      <td>0</td>\n",
       "      <td>106</td>\n",
       "      <td>31.0</td>\n",
       "      <td>1/19/99</td>\n",
       "      <td>...</td>\n",
       "      <td>Warner</td>\n",
       "      <td>200.0</td>\n",
       "      <td>14712</td>\n",
       "      <td>VA</td>\n",
       "      <td>40</td>\n",
       "      <td>0.0</td>\n",
       "      <td>0.0</td>\n",
       "      <td>0.0</td>\n",
       "      <td>0.0</td>\n",
       "      <td>[Congressional Bills 106th Congress]\\r\\n[From ...</td>\n",
       "    </tr>\n",
       "    <tr>\n",
       "      <th>4</th>\n",
       "      <td>311054</td>\n",
       "      <td>106-S-5</td>\n",
       "      <td>5</td>\n",
       "      <td>S</td>\n",
       "      <td>0.0</td>\n",
       "      <td>1</td>\n",
       "      <td>0</td>\n",
       "      <td>106</td>\n",
       "      <td>15.0</td>\n",
       "      <td>1/19/99</td>\n",
       "      <td>...</td>\n",
       "      <td>DeWine</td>\n",
       "      <td>200.0</td>\n",
       "      <td>15020</td>\n",
       "      <td>OH</td>\n",
       "      <td>24</td>\n",
       "      <td>0.0</td>\n",
       "      <td>0.0</td>\n",
       "      <td>0.0</td>\n",
       "      <td>0.0</td>\n",
       "      <td>[Congressional Bills 106th Congress]\\r\\n[From ...</td>\n",
       "    </tr>\n",
       "  </tbody>\n",
       "</table>\n",
       "<p>5 rows × 60 columns</p>\n",
       "</div>"
      ],
      "text/plain": [
       "       id   BillID  BillNum BillType  ByReq  Chamber  Commem  Cong  Cosponsr  \\\n",
       "0  310987  106-S-1        1        S    0.0        1       0   106      10.0   \n",
       "1  310058  106-S-2        2        S    0.0        1       0   106       6.0   \n",
       "2  311917  106-S-3        3        S    0.0        1       0   106      17.0   \n",
       "3  310526  106-S-4        4        S    0.0        1       0   106      31.0   \n",
       "4  311054  106-S-5        5        S    0.0        1       0   106      15.0   \n",
       "\n",
       "   IntrDate                        ...                           NameLast  \\\n",
       "0  12/15/00                        ...                          McConnell   \n",
       "1   1/19/99                        ...                           Jeffords   \n",
       "2   1/19/99                        ...                              Grams   \n",
       "3   1/19/99                        ...                             Warner   \n",
       "4   1/19/99                        ...                             DeWine   \n",
       "\n",
       "   Party  PooleID Postal  State  ChRef  RankRef  SubChRef  SubRankRef  \\\n",
       "0  200.0    14921     KY     51    0.0      0.0       0.0         0.0   \n",
       "1  328.0    14240     VT      6    0.0      0.0       0.0         0.0   \n",
       "2    0.0    29367     MN     33    0.0      0.0       0.0         0.0   \n",
       "3  200.0    14712     VA     40    0.0      0.0       0.0         0.0   \n",
       "4  200.0    15020     OH     24    0.0      0.0       0.0         0.0   \n",
       "\n",
       "                                     bill_text_clean  \n",
       "0  [Congressional Bills 106th Congress]\\r\\n[From ...  \n",
       "1  [Congressional Bills 106th Congress]\\r\\n[From ...  \n",
       "2  [Congressional Bills 106th Congress]\\r\\n[From ...  \n",
       "3  [Congressional Bills 106th Congress]\\r\\n[From ...  \n",
       "4  [Congressional Bills 106th Congress]\\r\\n[From ...  \n",
       "\n",
       "[5 rows x 60 columns]"
      ]
     },
     "execution_count": 6,
     "metadata": {},
     "output_type": "execute_result"
    }
   ],
   "source": [
    "bills.head()"
   ]
  },
  {
   "cell_type": "code",
   "execution_count": 7,
   "metadata": {
    "collapsed": false
   },
   "outputs": [],
   "source": [
    "#Removing lines where bill text is missing\n",
    "\n",
    "data = bills[bills['bill_text_clean']!='Problem']"
   ]
  },
  {
   "cell_type": "code",
   "execution_count": 8,
   "metadata": {
    "collapsed": false
   },
   "outputs": [
    {
     "data": {
      "text/plain": [
       "Index([u'id', u'BillID', u'BillNum', u'BillType', u'ByReq', u'Chamber',\n",
       "       u'Commem', u'Cong', u'Cosponsr', u'IntrDate', u'Major', u'Minor',\n",
       "       u'oldMajor', u'oldMinor', u'Month', u'Mult', u'MultNo', u'PassH',\n",
       "       u'PassS', u'PLaw', u'PLawDate', u'PLawNum', u'Private', u'ReferArr',\n",
       "       u'ReportH', u'ReportS', u'Title', u'Veto', u'Year', u'Age', u'Class',\n",
       "       u'ComC', u'ComR', u'CumHServ', u'CumSServ', u'Delegate', u'District',\n",
       "       u'DW1', u'DW2', u'FrstConH', u'FrstConS', u'Gender', u'LeadCham',\n",
       "       u'LeadComm', u'LeadSubC', u'Majority', u'MemberID', u'MRef',\n",
       "       u'NameFirst', u'NameFull', u'NameLast', u'Party', u'PooleID', u'Postal',\n",
       "       u'State', u'ChRef', u'RankRef', u'SubChRef', u'SubRankRef',\n",
       "       u'bill_text_clean'],\n",
       "      dtype='object')"
      ]
     },
     "execution_count": 8,
     "metadata": {},
     "output_type": "execute_result"
    }
   ],
   "source": [
    "data.columns"
   ]
  },
  {
   "cell_type": "code",
   "execution_count": 9,
   "metadata": {
    "collapsed": false
   },
   "outputs": [],
   "source": [
    "#removing columns that won't be used in my analyses\n",
    "data= data[['BillID','BillNum','ByReq', 'Commem','Cong','Cosponsr','IntrDate','Mult','MultNo',\n",
    "           'PassH', 'PassS','PLaw','Private','Title','Veto','Class','ComC','ComR','CumSServ',\n",
    "            'Gender','LeadCham','LeadSubC','Majority','MRef','NameFirst','NameLast',\n",
    "          'Party','Postal','bill_text_clean']]"
   ]
  },
  {
   "cell_type": "code",
   "execution_count": 10,
   "metadata": {
    "collapsed": false
   },
   "outputs": [
    {
     "data": {
      "text/plain": [
       "D    7695\n",
       "R    6791\n",
       "I     183\n",
       "Name: PartyName, dtype: int64"
      ]
     },
     "execution_count": 10,
     "metadata": {},
     "output_type": "execute_result"
    }
   ],
   "source": [
    "#map party number to Democrat, Republican or Independent\n",
    "data['PartyName']= data['Party'].map({0.0:'R', 100.0: 'D', 200.0:'R', 328.0:'I'})\n",
    "data.PartyName.value_counts()"
   ]
  },
  {
   "cell_type": "code",
   "execution_count": 11,
   "metadata": {
    "collapsed": false
   },
   "outputs": [
    {
     "data": {
      "text/plain": [
       "0.0    13788\n",
       "1.0      917\n",
       "Name: PLaw, dtype: int64"
      ]
     },
     "execution_count": 11,
     "metadata": {},
     "output_type": "execute_result"
    }
   ],
   "source": [
    "data.PLaw.value_counts()"
   ]
  },
  {
   "cell_type": "code",
   "execution_count": 12,
   "metadata": {
    "collapsed": false
   },
   "outputs": [
    {
     "data": {
      "text/plain": [
       "(11573, 30)"
      ]
     },
     "execution_count": 12,
     "metadata": {},
     "output_type": "execute_result"
    }
   ],
   "source": [
    "data = data[data['PartyName']!='I']\n",
    "\n",
    "data.dropna(inplace=True)\n",
    "data.shape"
   ]
  },
  {
   "cell_type": "code",
   "execution_count": 13,
   "metadata": {
    "collapsed": true
   },
   "outputs": [],
   "source": [
    "#Creates variable to mark bill author as republican or not\n",
    "data['IsRepublican']= data['PartyName'].map({'R':1, 'D':0})"
   ]
  },
  {
   "cell_type": "code",
   "execution_count": 14,
   "metadata": {
    "collapsed": true
   },
   "outputs": [],
   "source": [
    "# removing numbers from bill text\n",
    "# remove the words \"public law\" from passed public laws \n",
    "import re\n",
    "def remove_numbers(text):\n",
    "    nonumbers= re.sub('[^a-zA-Z]', ' ', text)\n",
    "    return nonumbers.replace('Public Law', ' ')\n",
    "data['bill_text_nonumbers']= [remove_numbers(x) for x in data.bill_text_clean]"
   ]
  },
  {
   "cell_type": "code",
   "execution_count": 15,
   "metadata": {
    "collapsed": true
   },
   "outputs": [],
   "source": [
    "data = data.reset_index()"
   ]
  },
  {
   "cell_type": "code",
   "execution_count": 15,
   "metadata": {
    "collapsed": false
   },
   "outputs": [
    {
     "data": {
      "text/html": [
       "<div>\n",
       "<table border=\"1\" class=\"dataframe\">\n",
       "  <thead>\n",
       "    <tr style=\"text-align: right;\">\n",
       "      <th></th>\n",
       "      <th>index</th>\n",
       "      <th>BillID</th>\n",
       "      <th>BillNum</th>\n",
       "      <th>ByReq</th>\n",
       "      <th>Commem</th>\n",
       "      <th>Cong</th>\n",
       "      <th>Cosponsr</th>\n",
       "      <th>IntrDate</th>\n",
       "      <th>Mult</th>\n",
       "      <th>MultNo</th>\n",
       "      <th>...</th>\n",
       "      <th>Majority</th>\n",
       "      <th>MRef</th>\n",
       "      <th>NameFirst</th>\n",
       "      <th>NameLast</th>\n",
       "      <th>Party</th>\n",
       "      <th>Postal</th>\n",
       "      <th>bill_text_clean</th>\n",
       "      <th>PartyName</th>\n",
       "      <th>IsRepublican</th>\n",
       "      <th>bill_text_nonumbers</th>\n",
       "    </tr>\n",
       "  </thead>\n",
       "  <tbody>\n",
       "    <tr>\n",
       "      <th>0</th>\n",
       "      <td>0</td>\n",
       "      <td>106-S-1</td>\n",
       "      <td>1</td>\n",
       "      <td>0.0</td>\n",
       "      <td>0</td>\n",
       "      <td>106</td>\n",
       "      <td>10.0</td>\n",
       "      <td>12/15/00</td>\n",
       "      <td>0.0</td>\n",
       "      <td>1.0</td>\n",
       "      <td>...</td>\n",
       "      <td>1</td>\n",
       "      <td>1.0</td>\n",
       "      <td>Mitch</td>\n",
       "      <td>McConnell</td>\n",
       "      <td>200.0</td>\n",
       "      <td>KY</td>\n",
       "      <td>[Congressional Bills 106th Congress]\\r\\n[From ...</td>\n",
       "      <td>R</td>\n",
       "      <td>1</td>\n",
       "      <td>Congressional Bills    th Congress    From th...</td>\n",
       "    </tr>\n",
       "    <tr>\n",
       "      <th>1</th>\n",
       "      <td>2</td>\n",
       "      <td>106-S-3</td>\n",
       "      <td>3</td>\n",
       "      <td>0.0</td>\n",
       "      <td>0</td>\n",
       "      <td>106</td>\n",
       "      <td>17.0</td>\n",
       "      <td>1/19/99</td>\n",
       "      <td>0.0</td>\n",
       "      <td>1.0</td>\n",
       "      <td>...</td>\n",
       "      <td>1</td>\n",
       "      <td>0.0</td>\n",
       "      <td>Rod</td>\n",
       "      <td>Grams</td>\n",
       "      <td>0.0</td>\n",
       "      <td>MN</td>\n",
       "      <td>[Congressional Bills 106th Congress]\\r\\n[From ...</td>\n",
       "      <td>R</td>\n",
       "      <td>1</td>\n",
       "      <td>Congressional Bills    th Congress    From th...</td>\n",
       "    </tr>\n",
       "    <tr>\n",
       "      <th>2</th>\n",
       "      <td>3</td>\n",
       "      <td>106-S-4</td>\n",
       "      <td>4</td>\n",
       "      <td>0.0</td>\n",
       "      <td>0</td>\n",
       "      <td>106</td>\n",
       "      <td>31.0</td>\n",
       "      <td>1/19/99</td>\n",
       "      <td>0.0</td>\n",
       "      <td>1.0</td>\n",
       "      <td>...</td>\n",
       "      <td>1</td>\n",
       "      <td>1.0</td>\n",
       "      <td>John</td>\n",
       "      <td>Warner</td>\n",
       "      <td>200.0</td>\n",
       "      <td>VA</td>\n",
       "      <td>[Congressional Bills 106th Congress]\\r\\n[From ...</td>\n",
       "      <td>R</td>\n",
       "      <td>1</td>\n",
       "      <td>Congressional Bills    th Congress    From th...</td>\n",
       "    </tr>\n",
       "    <tr>\n",
       "      <th>3</th>\n",
       "      <td>4</td>\n",
       "      <td>106-S-5</td>\n",
       "      <td>5</td>\n",
       "      <td>0.0</td>\n",
       "      <td>0</td>\n",
       "      <td>106</td>\n",
       "      <td>15.0</td>\n",
       "      <td>1/19/99</td>\n",
       "      <td>0.0</td>\n",
       "      <td>1.0</td>\n",
       "      <td>...</td>\n",
       "      <td>1</td>\n",
       "      <td>1.0</td>\n",
       "      <td>Michael</td>\n",
       "      <td>DeWine</td>\n",
       "      <td>200.0</td>\n",
       "      <td>OH</td>\n",
       "      <td>[Congressional Bills 106th Congress]\\r\\n[From ...</td>\n",
       "      <td>R</td>\n",
       "      <td>1</td>\n",
       "      <td>Congressional Bills    th Congress    From th...</td>\n",
       "    </tr>\n",
       "    <tr>\n",
       "      <th>4</th>\n",
       "      <td>5</td>\n",
       "      <td>106-S-6</td>\n",
       "      <td>6</td>\n",
       "      <td>0.0</td>\n",
       "      <td>0</td>\n",
       "      <td>106</td>\n",
       "      <td>31.0</td>\n",
       "      <td>1/19/99</td>\n",
       "      <td>0.0</td>\n",
       "      <td>1.0</td>\n",
       "      <td>...</td>\n",
       "      <td>0</td>\n",
       "      <td>0.0</td>\n",
       "      <td>Thomas</td>\n",
       "      <td>Daschle</td>\n",
       "      <td>100.0</td>\n",
       "      <td>SD</td>\n",
       "      <td>[Congressional Bills 106th Congress]\\r\\n[From ...</td>\n",
       "      <td>D</td>\n",
       "      <td>0</td>\n",
       "      <td>Congressional Bills    th Congress    From th...</td>\n",
       "    </tr>\n",
       "  </tbody>\n",
       "</table>\n",
       "<p>5 rows × 33 columns</p>\n",
       "</div>"
      ],
      "text/plain": [
       "   index   BillID  BillNum  ByReq  Commem  Cong  Cosponsr  IntrDate  Mult  \\\n",
       "0      0  106-S-1        1    0.0       0   106      10.0  12/15/00   0.0   \n",
       "1      2  106-S-3        3    0.0       0   106      17.0   1/19/99   0.0   \n",
       "2      3  106-S-4        4    0.0       0   106      31.0   1/19/99   0.0   \n",
       "3      4  106-S-5        5    0.0       0   106      15.0   1/19/99   0.0   \n",
       "4      5  106-S-6        6    0.0       0   106      31.0   1/19/99   0.0   \n",
       "\n",
       "   MultNo                        ...                          Majority  MRef  \\\n",
       "0     1.0                        ...                                 1   1.0   \n",
       "1     1.0                        ...                                 1   0.0   \n",
       "2     1.0                        ...                                 1   1.0   \n",
       "3     1.0                        ...                                 1   1.0   \n",
       "4     1.0                        ...                                 0   0.0   \n",
       "\n",
       "   NameFirst   NameLast  Party  Postal  \\\n",
       "0      Mitch  McConnell  200.0      KY   \n",
       "1        Rod      Grams    0.0      MN   \n",
       "2       John     Warner  200.0      VA   \n",
       "3    Michael     DeWine  200.0      OH   \n",
       "4     Thomas    Daschle  100.0      SD   \n",
       "\n",
       "                                     bill_text_clean  PartyName  IsRepublican  \\\n",
       "0  [Congressional Bills 106th Congress]\\r\\n[From ...          R             1   \n",
       "1  [Congressional Bills 106th Congress]\\r\\n[From ...          R             1   \n",
       "2  [Congressional Bills 106th Congress]\\r\\n[From ...          R             1   \n",
       "3  [Congressional Bills 106th Congress]\\r\\n[From ...          R             1   \n",
       "4  [Congressional Bills 106th Congress]\\r\\n[From ...          D             0   \n",
       "\n",
       "                                 bill_text_nonumbers  \n",
       "0   Congressional Bills    th Congress    From th...  \n",
       "1   Congressional Bills    th Congress    From th...  \n",
       "2   Congressional Bills    th Congress    From th...  \n",
       "3   Congressional Bills    th Congress    From th...  \n",
       "4   Congressional Bills    th Congress    From th...  \n",
       "\n",
       "[5 rows x 33 columns]"
      ]
     },
     "execution_count": 15,
     "metadata": {},
     "output_type": "execute_result"
    }
   ],
   "source": [
    "data.head()"
   ]
  },
  {
   "cell_type": "markdown",
   "metadata": {},
   "source": [
    "# NLP analyses\n",
    "\n",
    "Pipeline will be used to run data through the following analyses:\n",
    "- Countvectorizer\n",
    "- TF-IDF Vectorizer\n",
    "\n",
    "- Naive Bayes\n",
    "- Logistic Regression"
   ]
  },
  {
   "cell_type": "markdown",
   "metadata": {
    "collapsed": true
   },
   "source": [
    "## Using Bill Text to Predict the Party Association of the Author"
   ]
  },
  {
   "cell_type": "code",
   "execution_count": 16,
   "metadata": {
    "collapsed": false
   },
   "outputs": [],
   "source": [
    "X= data.bill_text_nonumbers\n",
    "y= data.IsRepublican\n"
   ]
  },
  {
   "cell_type": "code",
   "execution_count": 17,
   "metadata": {
    "collapsed": false
   },
   "outputs": [],
   "source": [
    "# use Naive Bayes to predict the class party.\n",
    "def analyze(vect, X, y):\n",
    "    #apply vectorizer\n",
    "    X_train, X_test, y_train, y_test = train_test_split(X, y, random_state=1)\n",
    "    X_train_dtm = vect.fit_transform(X_train)\n",
    "    X_test_dtm = vect.transform(X_test)\n",
    "    #Naive Bayes analysis\n",
    "    print 'Features: ', X_train_dtm.shape[1]\n",
    "    nb = MultinomialNB()\n",
    "    nb.fit(X_train_dtm, y_train)\n",
    "    y_pred_class = nb.predict(X_test_dtm)\n",
    "    print 'Naive Bayes Accuracy: ', metrics.accuracy_score(y_test, y_pred_class)\n",
    "    \n",
    "    #logistic regression analysis\n",
    "    X_test_dtm = vect.transform(X_test)\n",
    "    logreg = LogisticRegression()\n",
    "    logreg.fit(X_train_dtm, y_train)\n",
    "    y_pred_class = logreg.predict(X_test_dtm)\n",
    "    print 'Logistic Regression Accuracy: ', metrics.accuracy_score(y_test, y_pred_class)\n"
   ]
  },
  {
   "cell_type": "code",
   "execution_count": 18,
   "metadata": {
    "collapsed": false
   },
   "outputs": [
    {
     "name": "stdout",
     "output_type": "stream",
     "text": [
      "***Count Vectorizer, with stop words***\n",
      "Features:  5000\n",
      "Naive Bayes Accuracy:  0.605390463027\n",
      "Logistic Regression Accuracy:  0.678991015895\n",
      "\n",
      "***Count Vectorizer, stop words removed***\n",
      "Features:  5000\n",
      "Naive Bayes Accuracy:  0.615756738079\n",
      "Logistic Regression Accuracy:  0.730822391154\n"
     ]
    }
   ],
   "source": [
    "# count vectorizer, with and without stop words\n",
    "print \"***Count Vectorizer, with stop words***\"\n",
    "vect= CountVectorizer(max_features=5000)\n",
    "analyze(vect, X, y)\n",
    "\n",
    "print \"\\n\" + \"***Count Vectorizer, stop words removed***\"\n",
    "vect= CountVectorizer(max_features=5000, stop_words='english')\n",
    "analyze(vect, X, y)"
   ]
  },
  {
   "cell_type": "code",
   "execution_count": 19,
   "metadata": {
    "collapsed": false
   },
   "outputs": [
    {
     "name": "stdout",
     "output_type": "stream",
     "text": [
      "***TF-IDF Vectorizer, with stop words***\n",
      "Features:  5000\n",
      "Naive Bayes Accuracy:  0.637525915688\n",
      "Logistic Regression Accuracy:  0.69004837595\n",
      "\n",
      "***TF-IDF Vectorizer, stop words removed***\n",
      "Features:  5000\n",
      "Naive Bayes Accuracy:  0.643400138217\n",
      "Logistic Regression Accuracy:  0.703870076019\n"
     ]
    }
   ],
   "source": [
    "# TD-IDF vectorizer\n",
    "vect= TfidfVectorizer(max_features=5000)\n",
    "print \"***TF-IDF Vectorizer, with stop words***\"\n",
    "analyze(vect, X, y)\n",
    "\n",
    "vect= TfidfVectorizer(max_features=5000, stop_words='english')\n",
    "print \"\\n\" + \"***TF-IDF Vectorizer, stop words removed***\"\n",
    "analyze(vect, X, y)"
   ]
  },
  {
   "cell_type": "code",
   "execution_count": null,
   "metadata": {
    "collapsed": false
   },
   "outputs": [],
   "source": [
    "# Using lemmatization to revert words to their verb root\n",
    "import textblob\n",
    "def lemmas(text):\n",
    "    text = unicode(text, 'utf-8').lower()\n",
    "    words = TextBlob(text).words\n",
    "    return [word.lemmatize(pos='v') for word in words]"
   ]
  },
  {
   "cell_type": "code",
   "execution_count": null,
   "metadata": {
    "collapsed": false
   },
   "outputs": [],
   "source": [
    "vect= CountVectorizer(analyzer=lemmas, stop_words='english', max_features=5000)\n",
    "print \"***Count Vectorizer, using lemmatization for verbs, stop words removed***\"\n",
    "analyze(vect, X, y)"
   ]
  },
  {
   "cell_type": "code",
   "execution_count": 20,
   "metadata": {
    "collapsed": false
   },
   "outputs": [
    {
     "name": "stdout",
     "output_type": "stream",
     "text": [
      "***Count Vectorizer, including bigrams, stop words removed***\n",
      "Features:  5000\n",
      "Naive Bayes Accuracy:  0.560469937802\n",
      "Logistic Regression Accuracy:  0.678645473393\n"
     ]
    }
   ],
   "source": [
    "# with bigrams \n",
    "vect = CountVectorizer(ngram_range=(1, 2), max_features=5000, stop_words='english')\n",
    "print \"***Count Vectorizer, including bigrams, stop words removed***\"\n",
    "analyze(vect, X, y)"
   ]
  },
  {
   "cell_type": "markdown",
   "metadata": {},
   "source": [
    "### Testing a range of max features\n",
    "\n",
    "Using Count Vectorizer without stop words and logistic regression as that returned the highest accuracy "
   ]
  },
  {
   "cell_type": "code",
   "execution_count": 21,
   "metadata": {
    "collapsed": false
   },
   "outputs": [],
   "source": [
    "max_feat = [500, 1000, 1500, 2000, 2500, 3000, 3500, 4000, 4500, 5000]\n",
    "accuracy_scores=[]\n",
    "X_train, X_test, y_train, y_test = train_test_split(X, y, random_state=1)\n",
    "\n",
    "for num in max_feat:\n",
    "    vect= CountVectorizer(stop_words='english', max_features=num)\n",
    "    X_train_dtm = vect.fit_transform(X_train)\n",
    "    X_test_dtm = vect.transform(X_test)\n",
    "    logreg = LogisticRegression()\n",
    "    logreg.fit(X_train_dtm, y_train)\n",
    "    y_pred_class = logreg.predict(X_test_dtm)\n",
    "    accuracy_scores.append(metrics.accuracy_score(y_test, y_pred_class))\n",
    "    "
   ]
  },
  {
   "cell_type": "code",
   "execution_count": 22,
   "metadata": {
    "collapsed": false
   },
   "outputs": [
    {
     "data": {
      "text/plain": [
       "<matplotlib.text.Text at 0x13deeb450>"
      ]
     },
     "execution_count": 22,
     "metadata": {},
     "output_type": "execute_result"
    },
    {
     "data": {
      "image/png": "[encoded data removed]",
      "text/plain": [
       "<matplotlib.figure.Figure at 0x109a27450>"
      ]
     },
     "metadata": {},
     "output_type": "display_data"
    }
   ],
   "source": [
    "import matplotlib.pyplot as plt\n",
    "plt.plot(max_feat, accuracy_scores)\n",
    "plt.xlabel('# of features applied to the Count Vectorizer model, stop words removed')\n",
    "plt.ylabel('Logistic Regression Accuracy Score')\n"
   ]
  },
  {
   "cell_type": "markdown",
   "metadata": {},
   "source": [
    "## Using Bill Text to predict passage"
   ]
  },
  {
   "cell_type": "code",
   "execution_count": 23,
   "metadata": {
    "collapsed": false
   },
   "outputs": [],
   "source": [
    "X= data.bill_text_nonumbers\n",
    "y= data.PLaw\n",
    "\n",
    "# The PLaw variable is coded as 0 for not passed to public law and 1 for passed."
   ]
  },
  {
   "cell_type": "code",
   "execution_count": 24,
   "metadata": {
    "collapsed": false
   },
   "outputs": [],
   "source": [
    "max_feat = [500, 1000, 1500, 2000, 2500, 3000, 3500, 4000, 4500, 5000]\n",
    "accuracy_scores=[]\n",
    "X_train, X_test, y_train, y_test = train_test_split(X, y, random_state=1)\n",
    "\n",
    "for num in max_feat:\n",
    "    vect= TfidfVectorizer(stop_words='english', max_features=num)\n",
    "    X_train_dtm = vect.fit_transform(X_train)\n",
    "    X_test_dtm = vect.transform(X_test)\n",
    "    logreg = LogisticRegression()\n",
    "    logreg.fit(X_train_dtm, y_train)\n",
    "    y_pred_class = logreg.predict(X_test_dtm)\n",
    "    accuracy_scores.append(metrics.accuracy_score(y_test, y_pred_class))\n",
    "    "
   ]
  },
  {
   "cell_type": "code",
   "execution_count": 25,
   "metadata": {
    "collapsed": false
   },
   "outputs": [
    {
     "data": {
      "text/plain": [
       "<matplotlib.text.Text at 0x12ee50550>"
      ]
     },
     "execution_count": 25,
     "metadata": {},
     "output_type": "execute_result"
    },
    {
     "data": {
      "image/png": "[encoded data removed]",
      "text/plain": [
       "<matplotlib.figure.Figure at 0x12f34e850>"
      ]
     },
     "metadata": {},
     "output_type": "display_data"
    }
   ],
   "source": [
    "import matplotlib.pyplot as plt\n",
    "plt.plot(max_feat, accuracy_scores)\n",
    "plt.xlabel('# of features applied to the TF-IDF Vectorizer model, stop words removed')\n",
    "plt.ylabel('Logistic Regression Accuracy Score')"
   ]
  },
  {
   "cell_type": "code",
   "execution_count": 26,
   "metadata": {
    "collapsed": false
   },
   "outputs": [
    {
     "name": "stdout",
     "output_type": "stream",
     "text": [
      "***Count Vectorizer, with stop words***\n",
      "Features:  500\n",
      "Naive Bayes Accuracy:  0.951278507256\n",
      "Logistic Regression Accuracy:  0.99792674499\n",
      "\n",
      "***Count Vectorizer, stop words removed***\n",
      "Features:  500\n",
      "Naive Bayes Accuracy:  0.957843814789\n",
      "Logistic Regression Accuracy:  0.998963372495\n"
     ]
    }
   ],
   "source": [
    "# count vectorizer, with and without stop words\n",
    "print \"***Count Vectorizer, with stop words***\"\n",
    "vect= CountVectorizer(max_features=500)\n",
    "analyze(vect, X, y)\n",
    "\n",
    "print \"\\n\" + \"***Count Vectorizer, stop words removed***\"\n",
    "vect= CountVectorizer(max_features=500, stop_words='english')\n",
    "analyze(vect, X, y)"
   ]
  },
  {
   "cell_type": "code",
   "execution_count": 18,
   "metadata": {
    "collapsed": false
   },
   "outputs": [
    {
     "name": "stdout",
     "output_type": "stream",
     "text": [
      "***TF-IDF Vectorizer, with stop words***\n",
      "Features:  500\n",
      "Naive Bayes Accuracy:  0.942294402211\n",
      "Logistic Regression Accuracy:  0.974775397374\n",
      "\n",
      "***TF-IDF Vectorizer, stop words removed***\n",
      "Features:  500\n",
      "Naive Bayes Accuracy:  0.965100207326\n",
      "Logistic Regression Accuracy:  0.988942639945\n"
     ]
    }
   ],
   "source": [
    "# TD-IDF vectorizer\n",
    "vect= TfidfVectorizer(max_features=500)\n",
    "print \"***TF-IDF Vectorizer, with stop words***\"\n",
    "analyze(vect, X, y)\n",
    "\n",
    "vect= TfidfVectorizer(max_features=500, stop_words='english')\n",
    "print \"\\n\" + \"***TF-IDF Vectorizer, stop words removed***\"\n",
    "analyze(vect, X, y)"
   ]
  },
  {
   "cell_type": "code",
   "execution_count": null,
   "metadata": {
    "collapsed": false
   },
   "outputs": [],
   "source": [
    "vect.get_feature_names()"
   ]
  },
  {
   "cell_type": "code",
   "execution_count": 27,
   "metadata": {
    "collapsed": false
   },
   "outputs": [
    {
     "name": "stdout",
     "output_type": "stream",
     "text": [
      "***Count Vectorizer, including bigrams, stop words removed***\n",
      "Features:  500\n",
      "Naive Bayes Accuracy:  0.981340704907\n",
      "Logistic Regression Accuracy:  0.998963372495\n"
     ]
    }
   ],
   "source": [
    "# with bigrams \n",
    "vect = CountVectorizer(ngram_range=(1, 2), max_features=500, stop_words='english')\n",
    "print \"***Count Vectorizer, including bigrams, stop words removed***\"\n",
    "analyze(vect, X, y)"
   ]
  },
  {
   "cell_type": "markdown",
   "metadata": {},
   "source": [
    "# Bill summarization"
   ]
  },
  {
   "cell_type": "code",
   "execution_count": 19,
   "metadata": {
    "collapsed": false
   },
   "outputs": [
    {
     "data": {
      "text/plain": [
       "(11573, 5000)"
      ]
     },
     "execution_count": 19,
     "metadata": {},
     "output_type": "execute_result"
    }
   ],
   "source": [
    "X= data.bill_text_nonumbers\n",
    "y= data.PLaw\n",
    "\n",
    "vect = TfidfVectorizer(stop_words='english', max_features=5000)\n",
    "\n",
    "dtm = vect.fit_transform(X)\n",
    "features = vect.get_feature_names()\n",
    "dtm.shape"
   ]
  },
  {
   "cell_type": "code",
   "execution_count": 20,
   "metadata": {
    "collapsed": false
   },
   "outputs": [],
   "source": [
    "def summarize(data):\n",
    "\n",
    "    bill_index = np.random.randint(0, len(data))        \n",
    "    bill_text = unicode(data.bill_text_clean[bill_index], 'utf-8')\n",
    "    bill_length = len(bill_text)\n",
    "    \n",
    "    # create a dictionary of words and their TF-IDF scores\n",
    "    word_scores = {}\n",
    "    for word in TextBlob(bill_text).words:\n",
    "        word = word.lower()\n",
    "        if word in features:\n",
    "            word_scores[word] = dtm[bill_index, features.index(word)]\n",
    "   \n",
    "    #print title\n",
    "    print 'TITLE'\n",
    "    print data.Title[bill_index]\n",
    "    \n",
    "   \n",
    "        \n",
    "    #print if R or D\n",
    "    print '\\n' + 'BY'\n",
    "    print data.NameFirst[bill_index] + ' ' + data.NameLast[bill_index]+', ' + data.PartyName[bill_index]\n",
    "    \n",
    "    # print if passed or not\n",
    "    print '\\n' + 'PASSED?'\n",
    "    if data.PLaw[bill_index]==1:\n",
    "        print 'Yes'\n",
    "    else:\n",
    "        print 'No'\n",
    "    \n",
    "    # print words with the top 5 TF-IDF scores\n",
    "    print '\\n' + 'TOP SCORING WORDS:'\n",
    "    top_scores = sorted(word_scores.items(), key=lambda x: x[1], reverse=True)[:5]\n",
    "    for word, score in top_scores:\n",
    "        print word\n",
    "    \n",
    "    # print 5 random words\n",
    "    print '\\n' + 'RANDOM WORDS:'\n",
    "    random_words = np.random.choice(word_scores.keys(), size=5, replace=False)\n",
    "    for word in random_words:\n",
    "        print word\n",
    "    \n",
    "    # print the review\n",
    "    print '\\n' + bill_text"
   ]
  },
  {
   "cell_type": "code",
   "execution_count": 23,
   "metadata": {
    "collapsed": false
   },
   "outputs": [
    {
     "name": "stdout",
     "output_type": "stream",
     "text": [
      "TITLE\n",
      "A bill to amend title XVIII of the Social Security Act to accelerate the reduction in the amount of beneficiary copayment liability for medicare outpatient services.\n",
      "\n",
      "BY\n",
      "Kent Conrad, D\n",
      "\n",
      "PASSED?\n",
      "No\n",
      "\n",
      "TOP SCORING WORDS:\n",
      "performed\n",
      "outpatient\n",
      "procedures\n",
      "medicare\n",
      "percent\n",
      "\n",
      "RANDOM WORDS:\n",
      "hospital\n",
      "sec\n",
      "states\n",
      "prospective\n",
      "medicare\n",
      "\n",
      "[Congressional Bills 108th Congress]\r\n",
      "[From the U.S. Government Printing Office]\r\n",
      "[S. 1017 Introduced in Senate (IS)]\r\n",
      "\r\n",
      "\r\n",
      "\r\n",
      "\r\n",
      "\r\n",
      "\r\n",
      "108th CONGRESS\r\n",
      "  1st Session\r\n",
      "                                S. 1017\r\n",
      "\r\n",
      "   To amend title XVIII of the Social Security Act to accelerate the \r\n",
      "reduction in the amount of beneficiary copayment liability for medicare \r\n",
      "                          outpatient services.\r\n",
      "\r\n",
      "\r\n",
      "_______________________________________________________________________\r\n",
      "\r\n",
      "\r\n",
      "                   IN THE SENATE OF THE UNITED STATES\r\n",
      "\r\n",
      "                              May 7, 2003\r\n",
      "\r\n",
      " Mr. Conrad (for himself, Mr. Bingaman, Mr. Levin, Ms. Landrieu, and \r\n",
      "        Mr. Johnson) introduced the following bill; which was read \r\n",
      "        twice and referred to the Committee on FinanceYYYYYYYYYYYYYYYYY\r\n",
      "\r\n",
      "_______________________________________________________________________\r\n",
      "\r\n",
      "                                 A BILL\r\n",
      "\r\n",
      "\r\n",
      " \r\n",
      "   To amend title XVIII of the Social Security Act to accelerate the \r\n",
      "reduction in the amount of beneficiary copayment liability for medicare \r\n",
      "                          outpatient services.\r\n",
      "\r\n",
      "    Be it enacted by the Senate and House of Representatives of the \r\n",
      "United States of America in Congress assembled,\r\n",
      "\r\n",
      "SECTION 1. SHORT TITLE.\r\n",
      "\r\n",
      "    This Act may be cited as the ``Medicare Hospital Outpatient Cost-\r\n",
      "Sharing Reduction Act of 2003''.\r\n",
      "\r\n",
      "SEC. 2. ACCELERATING THE RATE OF REDUCTION OF BENEFICIARY COPAYMENT \r\n",
      "              LIABILITY UNDER THE MEDICARE HOSPITAL OUTPATIENT \r\n",
      "              DEPARTMENT PROSPECTIVE PAYMENT SYSTEM.\r\n",
      "\r\n",
      "    Section 1833(t)(8)(C)(ii) of the Social Security Act (42 U.S.C. \r\n",
      "1395l(t)(8)(C)(ii)) is amended--\r\n",
      "            (1) in subclause (V), by striking ``and thereafter''; and\r\n",
      "            (2) by adding at the end the following new subclauses:\r\n",
      "                                    ``(VI) For procedures performed in \r\n",
      "                                2007, 37 percent.\r\n",
      "                                    ``(VII) For procedures performed in \r\n",
      "                                2008, 34 percent.\r\n",
      "                                    ``(VIII) For procedures performed \r\n",
      "                                in 2009, 31 percent.\r\n",
      "                                    ``(IX) For procedures performed in \r\n",
      "                                2010, 29 percent.\r\n",
      "                                    ``(X) For procedures performed in \r\n",
      "                                2011, 26 percent.\r\n",
      "                                    ``(XI) For procedures performed in \r\n",
      "                                2012, 23 percent.\r\n",
      "                                    ``(XII) For procedures performed in \r\n",
      "                                2013 and thereafter, 20 percent.''.\r\n",
      "                                 &lt;all&gt;\n"
     ]
    }
   ],
   "source": [
    "summarize(data)"
   ]
  },
  {
   "cell_type": "markdown",
   "metadata": {
    "collapsed": true
   },
   "source": [
    "# Sentiment Analyses\n",
    "\n",
    "Where do bills rank in sentiment analysis?\n",
    "Is there a difference in Sentiment between R and D bills?\n",
    "\n",
    "Subjectivity and sentiment\n"
   ]
  },
  {
   "cell_type": "code",
   "execution_count": 31,
   "metadata": {
    "collapsed": false
   },
   "outputs": [],
   "source": [
    "# polarity ranges from -1 (most negative) to 1 (most positive)\n",
    "def detect_sentiment(text):\n",
    "    return TextBlob(text.decode('utf-8')).sentiment.polarity\n",
    "\n",
    "\n",
    "data['Sentiment'] = data.bill_text_clean.apply(detect_sentiment)"
   ]
  },
  {
   "cell_type": "code",
   "execution_count": 16,
   "metadata": {
    "collapsed": false
   },
   "outputs": [],
   "source": [
    "# polarity ranges from 0 (most objective) to 1 (most subjective)\n",
    "\n",
    "def detect_subjectivity(text):\n",
    "    return TextBlob(text.decode('utf-8')).sentiment.subjectivity\n",
    "\n",
    "data['Subjectivity'] = data.bill_text_clean.apply(detect_subjectivity)"
   ]
  },
  {
   "cell_type": "code",
   "execution_count": 32,
   "metadata": {
    "collapsed": false
   },
   "outputs": [
    {
     "data": {
      "text/plain": [
       "<matplotlib.axes._subplots.AxesSubplot at 0x13ad9bf10>"
      ]
     },
     "execution_count": 32,
     "metadata": {},
     "output_type": "execute_result"
    },
    {
     "data": {
      "image/png": "[encoded data removed]",
      "text/plain": [
       "<matplotlib.figure.Figure at 0x13ba6b190>"
      ]
     },
     "metadata": {},
     "output_type": "display_data"
    }
   ],
   "source": [
    "data.boxplot(column='Sentiment', by='PartyName')\n"
   ]
  },
  {
   "cell_type": "code",
   "execution_count": 17,
   "metadata": {
    "collapsed": false
   },
   "outputs": [
    {
     "data": {
      "text/plain": [
       "<matplotlib.axes._subplots.AxesSubplot at 0x119162150>"
      ]
     },
     "execution_count": 17,
     "metadata": {},
     "output_type": "execute_result"
    },
    {
     "data": {
      "image/png": "[encoded data removed]",
      "text/plain": [
       "<matplotlib.figure.Figure at 0x112dd3b50>"
      ]
     },
     "metadata": {},
     "output_type": "display_data"
    }
   ],
   "source": [
    "data.boxplot(column='Subjectivity', by='PartyName')"
   ]
  },
  {
   "cell_type": "code",
   "execution_count": 33,
   "metadata": {
    "collapsed": false
   },
   "outputs": [
    {
     "data": {
      "text/plain": [
       "<matplotlib.axes._subplots.AxesSubplot at 0x13de94950>"
      ]
     },
     "execution_count": 33,
     "metadata": {},
     "output_type": "execute_result"
    },
    {
     "data": {
      "image/png": "[encoded data removed]",
      "text/plain": [
       "<matplotlib.figure.Figure at 0x13de03250>"
      ]
     },
     "metadata": {},
     "output_type": "display_data"
    }
   ],
   "source": [
    "data.boxplot(column='Sentiment', by='PLaw')"
   ]
  },
  {
   "cell_type": "code",
   "execution_count": 18,
   "metadata": {
    "collapsed": false
   },
   "outputs": [
    {
     "data": {
      "text/plain": [
       "<matplotlib.axes._subplots.AxesSubplot at 0x12dab79d0>"
      ]
     },
     "execution_count": 18,
     "metadata": {},
     "output_type": "execute_result"
    },
    {
     "data": {
      "image/png": "[encoded data removed]",
      "text/plain": [
       "<matplotlib.figure.Figure at 0x12dab8cd0>"
      ]
     },
     "metadata": {},
     "output_type": "display_data"
    }
   ],
   "source": [
    "data.boxplot(column='Subjectivity', by='PLaw')"
   ]
  },
  {
   "cell_type": "code",
   "execution_count": null,
   "metadata": {
    "collapsed": true
   },
   "outputs": [],
   "source": []
  }
 ],
 "metadata": {
  "kernelspec": {
   "display_name": "Python 2",
   "language": "python",
   "name": "python2"
  },
  "language_info": {
   "codemirror_mode": {
    "name": "ipython",
    "version": 2
   },
   "file_extension": ".py",
   "mimetype": "text/x-python",
   "name": "python",
   "nbconvert_exporter": "python",
   "pygments_lexer": "ipython2",
   "version": "2.7.12"
  }
 },
 "nbformat": 4,
 "nbformat_minor": 0
}
