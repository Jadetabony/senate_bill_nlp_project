{
 "cells": [
  {
   "cell_type": "code",
   "execution_count": 3,
   "metadata": {
    "collapsed": true
   },
   "outputs": [],
   "source": [
    "#Code to scrape bill text off of congress.gov\n",
    "\n",
    "#Import necessary libraries\n",
    "from bs4 import BeautifulSoup\n",
    "import requests\n",
    "import pandas as pd\n",
    "import numpy as np\n",
    "import matplotlib as plt\n",
    "import seaborn as sn"
   ]
  },
  {
   "cell_type": "code",
   "execution_count": 4,
   "metadata": {
    "collapsed": false
   },
   "outputs": [
    {
     "name": "stderr",
     "output_type": "stream",
     "text": [
      "/Users/Jade/anaconda/lib/python2.7/site-packages/IPython/core/interactiveshell.py:2902: DtypeWarning: Columns (11,13,30,52) have mixed types. Specify dtype option on import or set low_memory=False.\n",
      "  interactivity=interactivity, compiler=compiler, result=result)\n"
     ]
    }
   ],
   "source": [
    "#Read in Dataset\n",
    "data = pd.read_csv('bills.csv')"
   ]
  },
  {
   "cell_type": "code",
   "execution_count": 5,
   "metadata": {
    "collapsed": true
   },
   "outputs": [],
   "source": [
    "#Remove years I'm not using\n",
    "data=data[data.Cong != 113]"
   ]
  },
  {
   "cell_type": "code",
   "execution_count": null,
   "metadata": {
    "collapsed": true
   },
   "outputs": [],
   "source": [
    "#Define function to build web path from numbers in my dataset based on index, request, and scrape text using \n",
    "#BeautifulSoup\n",
    "def bill_text(senate_num, bill_num):\n",
    "    try:\n",
    "        path = 'https://www.congress.gov/bill/'+str(senate_num)+'th-congress/senate-bill/'+str(bill_num)+'/text'\n",
    "        r=requests.get(path)\n",
    "        print 'Collecting bill number %d by Senate %d' %(bill_num, senate_num)\n",
    "        soup = BeautifulSoup(r.text,'lxml')\n",
    "        for div in soup.findAll('pre', attrs={'id':'billTextContainer'}):\n",
    "            text = div.text\n",
    "        return text\n",
    "    except:\n",
    "        print 'Problem'\n",
    "        return 'Problem'"
   ]
  },
  {
   "cell_type": "code",
   "execution_count": null,
   "metadata": {
    "collapsed": true
   },
   "outputs": [],
   "source": [
    "#Construct empty dictionary for the scraped data\n",
    "bills={}"
   ]
  },
  {
   "cell_type": "code",
   "execution_count": null,
   "metadata": {
    "collapsed": false
   },
   "outputs": [],
   "source": [
    "#For loop iterates through the bills dataframe by index and runs the webscraping function, assigning result of the \n",
    "# function to the index within a dictionary\n",
    "for i in range(0,len(data)):\n",
    "    sen_num= data['Cong'][i]\n",
    "    bill_num = data['BillNum'][i]\n",
    "    text=bill_text(sen_num,bill_num)\n",
    "    bills[i]=text\n",
    "    "
   ]
  }
 ],
 "metadata": {
  "kernelspec": {
   "display_name": "Python 2",
   "language": "python",
   "name": "python2"
  },
  "language_info": {
   "codemirror_mode": {
    "name": "ipython",
    "version": 2
   },
   "file_extension": ".py",
   "mimetype": "text/x-python",
   "name": "python",
   "nbconvert_exporter": "python",
   "pygments_lexer": "ipython2",
   "version": "2.7.11"
  }
 },
 "nbformat": 4,
 "nbformat_minor": 0
}
