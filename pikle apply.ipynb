{
 "cells": [
  {
   "cell_type": "code",
   "execution_count": 10,
   "metadata": {
    "collapsed": true
   },
   "outputs": [],
   "source": [
    "from bs4 import BeautifulSoup\n",
    "import requests\n",
    "import pandas as pd\n",
    "import numpy as np\n",
    "import matplotlib as plt\n",
    "import seaborn as sn\n",
    "\n",
    "#my web scraper\n",
    "def bill_text(senate_num, bill_num):\n",
    "    try:\n",
    "        path = 'https://www.congress.gov/bill/'+str(senate_num)+'th-congress/senate-bill/'+str(bill_num)+'/text?format=txt'\n",
    "        r=requests.get(path)\n",
    "        print 'Collecting bill number %d by Senate %d' %(bill_num, senate_num)\n",
    "        soup = BeautifulSoup(r.text,'lxml')\n",
    "        for div in soup.findAll('pre', attrs={'id':'billTextContainer'}):\n",
    "            text = div.text\n",
    "        return text\n",
    "        print 'Got it!'\n",
    "    except:\n",
    "        print 'Problem'\n",
    "        return 'Problem'\n",
    "\n",
    "    \n"
   ]
  },
  {
   "cell_type": "code",
   "execution_count": 11,
   "metadata": {
    "collapsed": false
   },
   "outputs": [
    {
     "name": "stdout",
     "output_type": "stream",
     "text": [
      "Pick a Senate Number between 100 and 114: 110\n",
      "Pick a Bill Number: 190\n",
      "Collecting bill number 190 by Senate 110\n"
     ]
    }
   ],
   "source": [
    "senate_num= int(raw_input('Pick a Senate Number between 100 and 114: '))\n",
    "bill_num= int(raw_input('Pick a Bill Number: '))\n",
    "\n",
    "text=bill_text(senate_num, bill_num)"
   ]
  },
  {
   "cell_type": "code",
   "execution_count": 13,
   "metadata": {
    "collapsed": false
   },
   "outputs": [
    {
     "name": "stdout",
     "output_type": "stream",
     "text": [
      "\n",
      "[Congressional Bills 110th Congress]\n",
      "[From the U.S. Government Printing Office]\n",
      "[S. 190 Introduced in Senate (IS)]\n",
      "\n",
      "\n",
      "\n",
      "\n",
      "\n",
      "\n",
      "\n",
      "110th CONGRESS\n",
      "  1st Session\n",
      "                                 S. 190\n",
      "\n",
      "  To provide a technical correction to the Pension Protection Act of \n",
      "                                 2006.\n",
      "\n",
      "\n",
      "_______________________________________________________________________\n",
      "\n",
      "\n",
      "                   IN THE SENATE OF THE UNITED STATES\n",
      "\n",
      "                            January 4, 2007\n",
      "\n",
      " Mrs. Hutchison (for herself and Mr. Cornyn) introduced the following \n",
      "  bill; which was read twice and referred to the Committee on Health, \n",
      "                     Education, Labor, and Pensions\n",
      "\n",
      "_______________________________________________________________________\n",
      "\n",
      "                                 A BILL\n",
      "\n",
      "\n",
      " \n",
      "  To provide a technical correction to the Pension Protection Act of \n",
      "                                 2006.\n",
      "\n",
      "    Be it enacted by the Senate and House of Representatives of the \n",
      "United States of America in Congress assembled,\n",
      "\n",
      "SECTION 1. TECHNICAL AMENDMENTS TO THE SPECIAL FUNDING RULES OF THE \n",
      "              PENSION PROTECTION ACT OF 2006.\n",
      "\n",
      "    (a) Technical Amendments.--Section 402 of the Pension Protection \n",
      "Act of 2006 is amended--\n",
      "            (1) in subsection (d)(1), by adding at the end the \n",
      "        following new subparagraph:\n",
      "                    ``(D) Special rule for plans years not beginning on \n",
      "                1st day of month.--For purposes of applying \n",
      "                subparagraph (A), a plan year beginning during the 4-\n",
      "                day period immediately preceding 2006 or 2007 shall be \n",
      "                treated as beginning in 2006 or 2007, as the case may \n",
      "                be.'', and\n",
      "            (2) in subsection (i)(1), by striking ``December 28, 2007'' \n",
      "        and inserting ``January 1, 2008''.\n",
      "    (b) Effective Date.--The amendments made by this section shall take \n",
      "effect as if included in the provisions of the Pension Protection Act \n",
      "of 2006 to which such amendments relate.\n",
      "                                 &lt;all&gt;\n",
      "\n",
      "\n"
     ]
    }
   ],
   "source": [
    "print text"
   ]
  },
  {
   "cell_type": "code",
   "execution_count": 17,
   "metadata": {
    "collapsed": false
   },
   "outputs": [
    {
     "data": {
      "text/plain": [
       "array([ 0.,  0.,  0., ...,  0.,  0.,  0.])"
      ]
     },
     "execution_count": 17,
     "metadata": {},
     "output_type": "execute_result"
    }
   ],
   "source": [
    "from sklearn.externals import joblib\n",
    "\n",
    "vect= joblib.load('pass_vect.pkl')\n",
    "text_trans= vect.transform(text)\n",
    "\n",
    "logreg = joblib.load('pass_class.pkl')\n",
    "logreg.predict(text_trans)"
   ]
  },
  {
   "cell_type": "code",
   "execution_count": null,
   "metadata": {
    "collapsed": true
   },
   "outputs": [],
   "source": []
  }
 ],
 "metadata": {
  "kernelspec": {
   "display_name": "Python 2",
   "language": "python",
   "name": "python2"
  },
  "language_info": {
   "codemirror_mode": {
    "name": "ipython",
    "version": 2
   },
   "file_extension": ".py",
   "mimetype": "text/x-python",
   "name": "python",
   "nbconvert_exporter": "python",
   "pygments_lexer": "ipython2",
   "version": "2.7.11"
  }
 },
 "nbformat": 4,
 "nbformat_minor": 0
}
