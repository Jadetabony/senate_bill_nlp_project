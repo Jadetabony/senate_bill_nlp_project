{
 "cells": [
  {
   "cell_type": "markdown",
   "metadata": {},
   "source": [
    "# Congressional Bills Text Analysis Project\n",
    "\n",
    "### By Jade Tabony\n",
    "\n"
   ]
  },
  {
   "cell_type": "markdown",
   "metadata": {},
   "source": [
    "#### The Questions\n",
    "\n",
    "Exploratory Statistics\n",
    "- Are senators from one party more prolific in writing bills than the others?\n",
    "- Which states produce the most bills?\n",
    "- Are certain features predicative of a bill being passed?\n",
    "\n",
    "Text Analytics\n",
    "- Can you use text analytics to categorize a bill as written as a Republican or Democratic senator?\n",
    "- Can text analytics tell us anything about the probability of the bill being passed?\n"
   ]
  },
  {
   "cell_type": "code",
   "execution_count": null,
   "metadata": {
    "collapsed": true
   },
   "outputs": [],
   "source": []
  }
 ],
 "metadata": {
  "kernelspec": {
   "display_name": "Python 2",
   "language": "python",
   "name": "python2"
  },
  "language_info": {
   "codemirror_mode": {
    "name": "ipython",
    "version": 2
   },
   "file_extension": ".py",
   "mimetype": "text/x-python",
   "name": "python",
   "nbconvert_exporter": "python",
   "pygments_lexer": "ipython2",
   "version": "2.7.11"
  }
 },
 "nbformat": 4,
 "nbformat_minor": 0
}
